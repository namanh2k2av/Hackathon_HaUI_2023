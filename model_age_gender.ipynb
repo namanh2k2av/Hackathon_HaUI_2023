{
  "nbformat": 4,
  "nbformat_minor": 0,
  "metadata": {
    "colab": {
      "provenance": [],
      "gpuType": "T4"
    },
    "kernelspec": {
      "name": "python3",
      "display_name": "Python 3"
    },
    "language_info": {
      "name": "python"
    },
    "accelerator": "GPU"
  },
  "cells": [
    {
      "cell_type": "code",
      "execution_count": null,
      "metadata": {
        "colab": {
          "base_uri": "https://localhost:8080/"
        },
        "id": "KIp6hLnTXVt_",
        "outputId": "91ac6406-5e39-4ca7-cded-acfbb522aa26"
      },
      "outputs": [
        {
          "output_type": "stream",
          "name": "stdout",
          "text": [
            "\u001b[?25l     \u001b[90m━━━━━━━━━━━━━━━━━━━━━━━━━━━━━━━━━━━━━━━━\u001b[0m \u001b[32m0.0/617.1 kB\u001b[0m \u001b[31m?\u001b[0m eta \u001b[36m-:--:--\u001b[0m\r\u001b[2K     \u001b[91m━\u001b[0m\u001b[91m╸\u001b[0m\u001b[90m━━━━━━━━━━━━━━━━━━━━━━━━━━━━━━━━━━━━━━\u001b[0m \u001b[32m30.7/617.1 kB\u001b[0m \u001b[31m738.1 kB/s\u001b[0m eta \u001b[36m0:00:01\u001b[0m\r\u001b[2K     \u001b[91m━━━━\u001b[0m\u001b[91m╸\u001b[0m\u001b[90m━━━━━━━━━━━━━━━━━━━━━━━━━━━━━━━━━━━\u001b[0m \u001b[32m71.7/617.1 kB\u001b[0m \u001b[31m949.5 kB/s\u001b[0m eta \u001b[36m0:00:01\u001b[0m\r\u001b[2K     \u001b[91m━━━━━━━━━━━━━━\u001b[0m\u001b[91m╸\u001b[0m\u001b[90m━━━━━━━━━━━━━━━━━━━━━━━━━\u001b[0m \u001b[32m225.3/617.1 kB\u001b[0m \u001b[31m2.1 MB/s\u001b[0m eta \u001b[36m0:00:01\u001b[0m\r\u001b[2K     \u001b[91m━━━━━━━━━━━━━━━━━━━━━━━━━━━━━━━━━━━━\u001b[0m\u001b[91m╸\u001b[0m\u001b[90m━━━\u001b[0m \u001b[32m563.2/617.1 kB\u001b[0m \u001b[31m4.0 MB/s\u001b[0m eta \u001b[36m0:00:01\u001b[0m\r\u001b[2K     \u001b[90m━━━━━━━━━━━━━━━━━━━━━━━━━━━━━━━━━━━━━━━━\u001b[0m \u001b[32m617.1/617.1 kB\u001b[0m \u001b[31m4.0 MB/s\u001b[0m eta \u001b[36m0:00:00\u001b[0m\n",
            "\u001b[?25h"
          ]
        }
      ],
      "source": [
        "!pip install -q ultralytics==8.0.181"
      ]
    },
    {
      "cell_type": "code",
      "source": [
        "!pip install pytorchsummary"
      ],
      "metadata": {
        "id": "l7GLJ4mvXcSX",
        "colab": {
          "base_uri": "https://localhost:8080/"
        },
        "outputId": "b29f9c82-48de-4087-cbac-af7541f36bdd"
      },
      "execution_count": null,
      "outputs": [
        {
          "output_type": "stream",
          "name": "stdout",
          "text": [
            "Collecting pytorchsummary\n",
            "  Downloading pytorchsummary-1.3.0-py3-none-any.whl (5.0 kB)\n",
            "Installing collected packages: pytorchsummary\n",
            "Successfully installed pytorchsummary-1.3.0\n"
          ]
        }
      ]
    },
    {
      "cell_type": "code",
      "source": [
        "import cv2\n",
        "import numpy as np\n",
        "#from ultralytics import YOLO\n",
        "import torch\n",
        "import matplotlib.pyplot as plt\n",
        "\n",
        "from torchvision import utils\n",
        "from tqdm import tqdm\n",
        "\n",
        "from sklearn.model_selection import train_test_split"
      ],
      "metadata": {
        "id": "PY3_3In6XZ_4"
      },
      "execution_count": null,
      "outputs": []
    },
    {
      "cell_type": "code",
      "source": [
        "from google.colab import drive\n",
        "drive.mount('/content/drive')"
      ],
      "metadata": {
        "colab": {
          "base_uri": "https://localhost:8080/"
        },
        "id": "EmEciB5rXfS_",
        "outputId": "6ea4449d-79c5-4ff1-a9ee-3004118264a8"
      },
      "execution_count": null,
      "outputs": [
        {
          "output_type": "stream",
          "name": "stdout",
          "text": [
            "Mounted at /content/drive\n"
          ]
        }
      ]
    },
    {
      "cell_type": "code",
      "source": [
        "!cp -r '/content/drive/MyDrive/ouput' '/content'"
      ],
      "metadata": {
        "id": "7FEoNeplXiwf"
      },
      "execution_count": null,
      "outputs": []
    },
    {
      "cell_type": "code",
      "source": [
        "!cp -r '/content/drive/MyDrive/attention_vgg' '/content'\n",
        "!cp '/content/drive/MyDrive/ouput/data (1).zip' '/content'\n",
        "!unzip -q '/content/data (1).zip'"
      ],
      "metadata": {
        "id": "5VpMkiBWXhmx"
      },
      "execution_count": null,
      "outputs": []
    },
    {
      "cell_type": "code",
      "source": [
        "\n",
        "!gdown https://drive.google.com/u/0/uc?id=1peGv96yVDoFSKQvGT0NY5MO1ZyZruCKH&export=download"
      ],
      "metadata": {
        "id": "v82-jEMxzsk6",
        "colab": {
          "base_uri": "https://localhost:8080/"
        },
        "outputId": "0962e02c-17d3-43c9-eff0-06369457fecd"
      },
      "execution_count": null,
      "outputs": [
        {
          "output_type": "stream",
          "name": "stdout",
          "text": [
            "Downloading...\n",
            "From: https://drive.google.com/u/0/uc?id=1peGv96yVDoFSKQvGT0NY5MO1ZyZruCKH\n",
            "To: /content/data (1).zip\n",
            "100% 59.3M/59.3M [00:00<00:00, 97.8MB/s]\n"
          ]
        }
      ]
    },
    {
      "cell_type": "code",
      "source": [
        "!unzip -q '/content/data (1).zip'"
      ],
      "metadata": {
        "id": "y8Sby1xg1MAe"
      },
      "execution_count": null,
      "outputs": []
    },
    {
      "cell_type": "code",
      "source": [
        "path = '/content/data'\n",
        "#-------------load label and name of dataset-----------\n",
        "labels = []\n",
        "list_name = []\n",
        "with open(path + '/Label.txt', \"r\") as f:\n",
        "    for line in f:\n",
        "      #print(line)\n",
        "      if len(line) > 1:\n",
        "        name, label = line.split('\\t')\n",
        "        list_name.append(name)\n",
        "        labels.append(label.split(','))\n",
        "\n",
        "labels = np.array(labels, dtype=int)\n"
      ],
      "metadata": {
        "id": "43OlIeLrXkcd"
      },
      "execution_count": null,
      "outputs": []
    },
    {
      "cell_type": "code",
      "source": [
        "gender_labels = labels[:, 0].reshape(-1, 1)"
      ],
      "metadata": {
        "id": "r3CTEL7ttA8O"
      },
      "execution_count": null,
      "outputs": []
    },
    {
      "cell_type": "code",
      "source": [
        "gender_labels.shape"
      ],
      "metadata": {
        "colab": {
          "base_uri": "https://localhost:8080/"
        },
        "id": "zWzbXaKVtl8m",
        "outputId": "c1ae1336-10c2-4575-c30d-9f5be4af3a9d"
      },
      "execution_count": null,
      "outputs": [
        {
          "output_type": "execute_result",
          "data": {
            "text/plain": [
              "(19000, 1)"
            ]
          },
          "metadata": {},
          "execution_count": 4
        }
      ]
    },
    {
      "cell_type": "markdown",
      "source": [
        "# visualize data"
      ],
      "metadata": {
        "id": "2rNtzkYPIcnm"
      }
    },
    {
      "cell_type": "code",
      "source": [
        "gender_labels = []\n",
        "age_labels = []\n",
        "count_gender = [0] * 2\n",
        "count_age = [0] * 5\n",
        "for l in labels:\n",
        "  count_gender[l[0]] += 1\n",
        "  ix = np.argmax(l[1:])\n",
        "  count_age[ix] += 1"
      ],
      "metadata": {
        "id": "sYI-rnGIJvLL"
      },
      "execution_count": null,
      "outputs": []
    },
    {
      "cell_type": "code",
      "source": [
        "count"
      ],
      "metadata": {
        "colab": {
          "base_uri": "https://localhost:8080/"
        },
        "id": "FuumizKyJUfy",
        "outputId": "d5cac8e2-3840-419b-bdb1-6e1805e2e7c3"
      },
      "execution_count": null,
      "outputs": [
        {
          "output_type": "execute_result",
          "data": {
            "text/plain": [
              "array([[1, 0, 1, 0, 0, 0],\n",
              "       [1, 0, 1, 0, 0, 0],\n",
              "       [1, 0, 1, 0, 0, 0],\n",
              "       ...,\n",
              "       [0, 0, 0, 1, 0, 0],\n",
              "       [1, 0, 0, 0, 1, 0],\n",
              "       [1, 0, 0, 0, 1, 0]])"
            ]
          },
          "metadata": {},
          "execution_count": 7
        }
      ]
    },
    {
      "cell_type": "code",
      "source": [
        "import matplotlib.pyplot as plt\n",
        "\n",
        "plt.bar(x = ['Female', 'Male'], height = count_gender)"
      ],
      "metadata": {
        "colab": {
          "base_uri": "https://localhost:8080/",
          "height": 448
        },
        "id": "bbOR6CT6I6a3",
        "outputId": "193c3ba3-e08e-45ee-8687-8ab600c60aa0"
      },
      "execution_count": null,
      "outputs": [
        {
          "output_type": "execute_result",
          "data": {
            "text/plain": [
              "<BarContainer object of 2 artists>"
            ]
          },
          "metadata": {},
          "execution_count": 20
        },
        {
          "output_type": "display_data",
          "data": {
            "text/plain": [
              "<Figure size 640x480 with 1 Axes>"
            ],
            "image/png": "[encoded data removed]"
          },
          "metadata": {}
        }
      ]
    },
    {
      "cell_type": "code",
      "source": [
        "plt.bar(x = ['0 - 15', '16 - 30', '31 - 45', '46 - 60', 'Over 60'], height = count_age)"
      ],
      "metadata": {
        "colab": {
          "base_uri": "https://localhost:8080/",
          "height": 448
        },
        "id": "D8lwe3cgLklA",
        "outputId": "2e4a9abf-1763-4b4c-b196-2d1c3914c4df"
      },
      "execution_count": null,
      "outputs": [
        {
          "output_type": "execute_result",
          "data": {
            "text/plain": [
              "<BarContainer object of 5 artists>"
            ]
          },
          "metadata": {},
          "execution_count": 21
        },
        {
          "output_type": "display_data",
          "data": {
            "text/plain": [
              "<Figure size 640x480 with 1 Axes>"
            ],
            "image/png": "[encoded data removed]"
          },
          "metadata": {}
        }
      ]
    },
    {
      "cell_type": "markdown",
      "source": [
        "# Load data"
      ],
      "metadata": {
        "id": "JyzsgxC6I0aK"
      }
    },
    {
      "cell_type": "code",
      "source": [
        "labels_train, labels_test, list_name_train, list_name_test = train_test_split(labels, list_name, test_size = 0.1, shuffle = True, random_state=3)"
      ],
      "metadata": {
        "id": "aI6sWmqMsTU8"
      },
      "execution_count": null,
      "outputs": []
    },
    {
      "cell_type": "code",
      "source": [
        "labels_train, labels_test, list_name_train, list_name_test = train_test_split(gender_labels, list_name, test_size = 0.1, shuffle = True, random_state=3)"
      ],
      "metadata": {
        "id": "IVs6QFXStKJa"
      },
      "execution_count": null,
      "outputs": []
    },
    {
      "cell_type": "code",
      "source": [
        "#Dataset\n",
        "from attention_vgg.Dataset import *\n",
        "\n",
        "training_set = Dataset(list_name_train, labels_train, path)\n",
        "training_generator = torch.utils.data.DataLoader(training_set, batch_size = 64)"
      ],
      "metadata": {
        "id": "7oV51cfIeFnQ"
      },
      "execution_count": null,
      "outputs": []
    },
    {
      "cell_type": "code",
      "source": [
        "#Dataset\n",
        "from Dataset import *\n",
        "\n",
        "training_set = Dataset(list_name_train, labels_train, path)\n",
        "training_generator = torch.utils.data.DataLoader(training_set, batch_size = 64)"
      ],
      "metadata": {
        "colab": {
          "base_uri": "https://localhost:8080/"
        },
        "id": "S86vA95o1lyP",
        "outputId": "63167467-f9c2-46f9-9626-57a6148f1ab3"
      },
      "execution_count": null,
      "outputs": [
        {
          "output_type": "stream",
          "name": "stderr",
          "text": [
            "/usr/local/lib/python3.10/dist-packages/torchvision/transforms/v2/_deprecated.py:43: UserWarning: The transform `ToTensor()` is deprecated and will be removed in a future release. Instead, please use `v2.Compose([v2.ToImage(), v2.ToDtype(torch.float32, scale=True)])`.\n",
            "  warnings.warn(\n"
          ]
        }
      ]
    },
    {
      "cell_type": "markdown",
      "source": [
        "# Load model"
      ],
      "metadata": {
        "id": "y7HKkrcQI4el"
      }
    },
    {
      "cell_type": "code",
      "source": [
        "import sys\n",
        "sys.path.append('/content/attention_vgg/custom')\n",
        "from ReModel import *\n",
        "sys.path.append('/content')"
      ],
      "metadata": {
        "id": "_BXKB2VYgAht"
      },
      "execution_count": null,
      "outputs": []
    },
    {
      "cell_type": "code",
      "source": [
        "#from attention_vgg import\n",
        "#from attention_vgg.AttVGG import AttnVGG\n",
        "from AttVGG2 import AttnVGG\n"
      ],
      "metadata": {
        "id": "tnedLkjBblZS"
      },
      "execution_count": null,
      "outputs": []
    },
    {
      "cell_type": "code",
      "source": [
        "from attention_vgg.MNet import *\n"
      ],
      "metadata": {
        "id": "fk5uqu-8frbU"
      },
      "execution_count": null,
      "outputs": []
    },
    {
      "cell_type": "code",
      "source": [
        "from attention_vgg.Hydraplus import *"
      ],
      "metadata": {
        "id": "SMWZ0cWad17p"
      },
      "execution_count": null,
      "outputs": []
    },
    {
      "cell_type": "code",
      "source": [
        "from GoogleNet import *"
      ],
      "metadata": {
        "id": "HFdJ0901nwCo"
      },
      "execution_count": null,
      "outputs": []
    },
    {
      "cell_type": "code",
      "source": [
        "#resnet\n",
        "import torchvision.models as models\n",
        "import torch.nn as nn\n",
        "\n",
        "fc = nn.Sequential(\n",
        "    nn.Linear(2048, 6),\n",
        "    nn.Sigmoid()\n",
        ")\n",
        "model = models.resnet50(pretrained=True)\n",
        "\n",
        "model.fc = fc"
      ],
      "metadata": {
        "id": "E06YxDLEuOy4"
      },
      "execution_count": null,
      "outputs": []
    },
    {
      "cell_type": "code",
      "source": [
        "#normal cnn\n",
        "import torchvision.models as models\n",
        "import torch.nn as nn\n",
        "\n",
        "model = nn.Sequential(\n",
        "    nn.Conv2d(3, 64, 3, 1, padding = 'same'),\n",
        "    nn.MaxPool2d(2, 2),\n",
        "    nn.Conv2d(64, 128, 3, 1, padding = 'same'),\n",
        "    nn.MaxPool2d(2, 2),\n",
        "    nn.Conv2d(128, 256, 3, 1, padding = 'same'),\n",
        "    nn.MaxPool2d(2, 2),\n",
        "    nn.Conv2d(256, 512, 3, 1, padding = 'same'),\n",
        "    nn.MaxPool2d(2, 2),\n",
        "    nn.Conv2d(512, 1024, 3, 1, padding = 'same'),\n",
        "    nn.AvgPool2d((14, 7), 1),\n",
        "    nn.Flatten(),\n",
        "    nn.Linear(1024, 6),\n",
        "    nn.Sigmoid()\n",
        ")"
      ],
      "metadata": {
        "id": "HrtbcHXp3JRd"
      },
      "execution_count": null,
      "outputs": []
    },
    {
      "cell_type": "code",
      "source": [
        "\n",
        "use_cuda = torch.cuda.is_available()\n",
        "device = torch.device(\"cuda:0\" if use_cuda else \"cpu\")\n",
        "\n",
        "#model = Model(224, 112)\n",
        "#model = resnet50_cbam(pretrained=False, num_classes=6)\n",
        "model = AttnVGG(num_classes = 6, normalize_attn=True)\n",
        "\n",
        "#model = GoogLeNet\n",
        "model = model.cuda()\n",
        "\n",
        "#criterion = FocalLoss()\n",
        "criterion = torch.nn.BCELoss()\n",
        "optimizer = torch.optim.Adam(model.parameters(), lr=1e-4)"
      ],
      "metadata": {
        "id": "Yvs_HTedYbJU",
        "colab": {
          "base_uri": "https://localhost:8080/"
        },
        "outputId": "3ae52e4f-afea-43f4-c5c1-b6d1e203c8fa"
      },
      "execution_count": null,
      "outputs": [
        {
          "output_type": "stream",
          "name": "stderr",
          "text": [
            "/usr/local/lib/python3.10/dist-packages/torchvision/models/_utils.py:208: UserWarning: The parameter 'pretrained' is deprecated since 0.13 and may be removed in the future, please use 'weights' instead.\n",
            "  warnings.warn(\n",
            "/usr/local/lib/python3.10/dist-packages/torchvision/models/_utils.py:223: UserWarning: Arguments other than a weight enum or `None` for 'weights' are deprecated since 0.13 and may be removed in the future. The current behavior is equivalent to passing `weights=VGG16_BN_Weights.IMAGENET1K_V1`. You can also use `weights=VGG16_BN_Weights.DEFAULT` to get the most up-to-date weights.\n",
            "  warnings.warn(msg)\n"
          ]
        }
      ]
    },
    {
      "cell_type": "code",
      "source": [
        "from pytorchsummary import summary\n",
        "summary((3, 224, 112) ,model)"
      ],
      "metadata": {
        "id": "9xdIIaUCfDAC"
      },
      "execution_count": null,
      "outputs": []
    },
    {
      "cell_type": "code",
      "source": [
        "def evaluate(y_pred, y_true):\n",
        "  result = [False] * len(y_pred)\n",
        "  n = len(y_pred[0])\n",
        "  for i in range(len(y_pred)):\n",
        "    temp = [0] * n\n",
        "    temp[0] = 1 if y_pred[i][0] > 0.5 else 0\n",
        "    if n > 1:\n",
        "      ix = np.argmax(y_pred[i][1:])\n",
        "      temp[ix + 1] = 1\n",
        "    if (temp == y_true[i]).all():\n",
        "      result[i] = True\n",
        "\n",
        "  return result"
      ],
      "metadata": {
        "id": "vuvdQrijYFAp"
      },
      "execution_count": null,
      "outputs": []
    },
    {
      "cell_type": "code",
      "source": [
        "import time\n",
        "\n",
        "start_time = time.time()\n",
        "\n",
        "epochs = 3\n",
        "\n",
        "train_losses = []\n",
        "train_auc = []\n",
        "\n",
        "running_loss = 0\n",
        "loss_per_epochs = [0.0] * epochs\n",
        "model.train()\n",
        "\n",
        "for i in range(epochs):\n",
        "\n",
        "  result_epoch = []\n",
        "  # Run the training batches\n",
        "  for b, (X_train, y_train) in tqdm(enumerate(training_generator), total=len(training_generator)):\n",
        "\n",
        "      optimizer.zero_grad()\n",
        "\n",
        "      b += 1\n",
        "      y_pred, _, _ = model(X_train.cuda())\n",
        "      #y_pred = model(X_train.cuda())\n",
        "\n",
        "      #print(y_pred)\n",
        "\n",
        "      loss = criterion(y_pred.type(torch.FloatTensor), y_train.type(torch.FloatTensor))\n",
        "\n",
        "      loss.backward()\n",
        "      optimizer.step()\n",
        "\n",
        "      running_loss += loss.item()\n",
        "      loss_per_epochs[i] += loss.item()\n",
        "\n",
        "      r = evaluate(y_pred.cpu().detach().numpy(), y_train.detach().cpu().numpy())\n",
        "      result_epoch.extend(r)\n",
        "\n",
        "      if b % 50 == 0:\n",
        "          n = len(result_epoch)\n",
        "          t = sum(result_epoch)\n",
        "          print(f\"Loss: {running_loss / 50} Accuracy: {t / n}\", )\n",
        "          running_loss = 0\n",
        "  train_auc.append(sum(result_epoch) / len(result_epoch))\n",
        "\n",
        "\n",
        "print(f'\\nDuration: {time.time() - start_time:.0f} seconds')  # print the time elapsed"
      ],
      "metadata": {
        "colab": {
          "base_uri": "https://localhost:8080/"
        },
        "id": "4EWlZa-4ZAOl",
        "outputId": "ba317ad1-cc48-4d74-83bc-ae2695140261"
      },
      "execution_count": null,
      "outputs": [
        {
          "output_type": "stream",
          "name": "stderr",
          "text": [
            " 19%|█▊        | 50/268 [00:30<02:14,  1.62it/s]"
          ]
        },
        {
          "output_type": "stream",
          "name": "stdout",
          "text": [
            "Loss: 0.5702329802513123 Accuracy: 0.6878125\n"
          ]
        },
        {
          "output_type": "stream",
          "name": "stderr",
          "text": [
            " 37%|███▋      | 100/268 [01:01<01:42,  1.64it/s]"
          ]
        },
        {
          "output_type": "stream",
          "name": "stdout",
          "text": [
            "Loss: 0.3504496872425079 Accuracy: 0.7675\n"
          ]
        },
        {
          "output_type": "stream",
          "name": "stderr",
          "text": [
            " 56%|█████▌    | 150/268 [01:31<01:11,  1.64it/s]"
          ]
        },
        {
          "output_type": "stream",
          "name": "stdout",
          "text": [
            "Loss: 0.28750588119029996 Accuracy: 0.8040625\n"
          ]
        },
        {
          "output_type": "stream",
          "name": "stderr",
          "text": [
            " 75%|███████▍  | 200/268 [02:02<00:41,  1.63it/s]"
          ]
        },
        {
          "output_type": "stream",
          "name": "stdout",
          "text": [
            "Loss: 0.2404162847995758 Accuracy: 0.82890625\n"
          ]
        },
        {
          "output_type": "stream",
          "name": "stderr",
          "text": [
            " 93%|█████████▎| 250/268 [02:33<00:10,  1.64it/s]"
          ]
        },
        {
          "output_type": "stream",
          "name": "stdout",
          "text": [
            "Loss: 0.22710475623607634 Accuracy: 0.8445625\n"
          ]
        },
        {
          "output_type": "stream",
          "name": "stderr",
          "text": [
            "100%|██████████| 268/268 [02:44<00:00,  1.63it/s]\n",
            " 19%|█▊        | 50/268 [00:30<02:12,  1.64it/s]"
          ]
        },
        {
          "output_type": "stream",
          "name": "stdout",
          "text": [
            "Loss: 0.27844942912459375 Accuracy: 0.920625\n"
          ]
        },
        {
          "output_type": "stream",
          "name": "stderr",
          "text": [
            " 37%|███▋      | 100/268 [01:01<01:43,  1.62it/s]"
          ]
        },
        {
          "output_type": "stream",
          "name": "stdout",
          "text": [
            "Loss: 0.12627908922731876 Accuracy: 0.93609375\n"
          ]
        },
        {
          "output_type": "stream",
          "name": "stderr",
          "text": [
            " 56%|█████▌    | 150/268 [01:32<01:11,  1.64it/s]"
          ]
        },
        {
          "output_type": "stream",
          "name": "stdout",
          "text": [
            "Loss: 0.08928061783313751 Accuracy: 0.946875\n"
          ]
        },
        {
          "output_type": "stream",
          "name": "stderr",
          "text": [
            " 75%|███████▍  | 200/268 [02:03<00:42,  1.59it/s]"
          ]
        },
        {
          "output_type": "stream",
          "name": "stdout",
          "text": [
            "Loss: 0.05519047394394874 Accuracy: 0.956484375\n"
          ]
        },
        {
          "output_type": "stream",
          "name": "stderr",
          "text": [
            " 93%|█████████▎| 250/268 [02:34<00:10,  1.64it/s]"
          ]
        },
        {
          "output_type": "stream",
          "name": "stdout",
          "text": [
            "Loss: 0.061577444337308405 Accuracy: 0.961125\n"
          ]
        },
        {
          "output_type": "stream",
          "name": "stderr",
          "text": [
            "100%|██████████| 268/268 [02:44<00:00,  1.63it/s]\n",
            " 19%|█▊        | 50/268 [00:30<02:12,  1.65it/s]"
          ]
        },
        {
          "output_type": "stream",
          "name": "stdout",
          "text": [
            "Loss: 0.07046744730323554 Accuracy: 0.985625\n"
          ]
        },
        {
          "output_type": "stream",
          "name": "stderr",
          "text": [
            " 37%|███▋      | 100/268 [01:01<01:45,  1.60it/s]"
          ]
        },
        {
          "output_type": "stream",
          "name": "stdout",
          "text": [
            "Loss: 0.03584756894037128 Accuracy: 0.98625\n"
          ]
        },
        {
          "output_type": "stream",
          "name": "stderr",
          "text": [
            " 56%|█████▌    | 150/268 [01:32<01:12,  1.63it/s]"
          ]
        },
        {
          "output_type": "stream",
          "name": "stdout",
          "text": [
            "Loss: 0.03431362570263445 Accuracy: 0.9866666666666667\n"
          ]
        },
        {
          "output_type": "stream",
          "name": "stderr",
          "text": [
            " 75%|███████▍  | 200/268 [02:03<00:41,  1.64it/s]"
          ]
        },
        {
          "output_type": "stream",
          "name": "stdout",
          "text": [
            "Loss: 0.027739386204630137 Accuracy: 0.987734375\n"
          ]
        },
        {
          "output_type": "stream",
          "name": "stderr",
          "text": [
            " 93%|█████████▎| 250/268 [02:33<00:11,  1.62it/s]"
          ]
        },
        {
          "output_type": "stream",
          "name": "stdout",
          "text": [
            "Loss: 0.025756381545215846 Accuracy: 0.989125\n"
          ]
        },
        {
          "output_type": "stream",
          "name": "stderr",
          "text": [
            "100%|██████████| 268/268 [02:44<00:00,  1.63it/s]"
          ]
        },
        {
          "output_type": "stream",
          "name": "stdout",
          "text": [
            "\n",
            "Duration: 493 seconds\n"
          ]
        },
        {
          "output_type": "stream",
          "name": "stderr",
          "text": [
            "\n"
          ]
        }
      ]
    },
    {
      "cell_type": "code",
      "source": [
        "sum([True, False, True, True])"
      ],
      "metadata": {
        "colab": {
          "base_uri": "https://localhost:8080/"
        },
        "id": "i7s4HQGwbnkA",
        "outputId": "356e8444-b2fd-4031-bde9-a7fe546629a3"
      },
      "execution_count": null,
      "outputs": [
        {
          "output_type": "execute_result",
          "data": {
            "text/plain": [
              "3"
            ]
          },
          "metadata": {},
          "execution_count": 48
        }
      ]
    },
    {
      "cell_type": "code",
      "source": [
        "import matplotlib.pyplot as plt\n",
        "\n",
        "plt.plot(train_auc)\n",
        "plt.xlabel(\"Epochs\")\n",
        "plt.ylabel(\"Accuracy\")\n",
        "plt.legend([\"Acc\"])"
      ],
      "metadata": {
        "id": "M8W56041eSZM"
      },
      "execution_count": null,
      "outputs": []
    },
    {
      "cell_type": "code",
      "source": [
        "import matplotlib.pyplot as plt\n",
        "\n",
        "plt.plot(loss_per_epochs)\n",
        "plt.xlabel(\"Epochs\")\n",
        "plt.ylabel(\"Loss\")\n",
        "plt.legend([\"Loss\"])"
      ],
      "metadata": {
        "id": "7iqy-v--RCh9"
      },
      "execution_count": null,
      "outputs": []
    },
    {
      "cell_type": "code",
      "source": [
        "#model = torch.jit.load('/content/attention_vgg/attv1/NewAttVGG.pt')\n",
        "model = torch.jit.load('/content/attention_vgg/attv2/NewAttVGGV2_1.pt')"
      ],
      "metadata": {
        "id": "KHgxQPwhpfJ3"
      },
      "execution_count": null,
      "outputs": []
    },
    {
      "cell_type": "code",
      "source": [
        "testing_set = Dataset(list_name_test, labels_test, path)\n",
        "testing_generator = torch.utils.data.DataLoader(testing_set, batch_size = 1)\n",
        "train_preds = []\n",
        "y_test = []\n",
        "results = []\n",
        "model.eval()\n",
        "# Run the training batches\n",
        "for b, (X_train, y_train) in tqdm(enumerate(testing_generator), total=len(testing_generator)):\n",
        "    #print(X_train.shape, y_train)\n",
        "    b += 1\n",
        "    y_pred, _, _ = model(X_train.cuda() )\n",
        "    #y_pred = model(X_train.cuda())\n",
        "\n",
        "    res = [0] * 6\n",
        "    y_pred = y_pred.cpu().detach().numpy().flatten()\n",
        "    #print(y_pred)\n",
        "    if y_pred[0] > 0.5:\n",
        "      res[0] = 1\n",
        "    ix = np.argmax(y_pred[1:], axis=0)\n",
        "    res[ix + 1] = 1\n",
        "\n",
        "    results.append(res)\n",
        "    y_test.append(y_train.cpu().numpy().flatten())\n",
        "    #print(res)\n",
        "\n"
      ],
      "metadata": {
        "colab": {
          "base_uri": "https://localhost:8080/"
        },
        "id": "R69WT_iF13EK",
        "outputId": "4c110533-e95f-4728-9a39-cac8e926276e"
      },
      "execution_count": null,
      "outputs": [
        {
          "output_type": "stream",
          "name": "stderr",
          "text": [
            "100%|██████████| 1900/1900 [00:11<00:00, 159.65it/s]\n"
          ]
        }
      ]
    },
    {
      "cell_type": "code",
      "source": [
        "y_test = np.array(y_test, dtype = int)\n",
        "results = np.array(results, dtype = int)"
      ],
      "metadata": {
        "id": "IkCjoyiR3wkK"
      },
      "execution_count": null,
      "outputs": []
    },
    {
      "cell_type": "code",
      "source": [
        "from sklearn.metrics import accuracy_score, classification_report, multilabel_confusion_matrix\n",
        "from sklearn.metrics import ConfusionMatrixDisplay\n",
        "matrix = multilabel_confusion_matrix(y_test, results)\n",
        "acc =  accuracy_score(y_test, results)\n",
        "report = classification_report(y_test, results, zero_division=1)\n",
        "\n",
        "print(report)"
      ],
      "metadata": {
        "colab": {
          "base_uri": "https://localhost:8080/"
        },
        "id": "4GrsI6l45UDu",
        "outputId": "952853db-da83-4625-c89c-ef48901a489f"
      },
      "execution_count": null,
      "outputs": [
        {
          "output_type": "stream",
          "name": "stdout",
          "text": [
            "              precision    recall  f1-score   support\n",
            "\n",
            "           0       0.84      0.93      0.89       861\n",
            "           1       0.94      0.86      0.90      1039\n",
            "\n",
            "    accuracy                           0.89      1900\n",
            "   macro avg       0.89      0.90      0.89      1900\n",
            "weighted avg       0.90      0.89      0.89      1900\n",
            "\n"
          ]
        }
      ]
    },
    {
      "cell_type": "code",
      "source": [
        "y_test[:, 1:] == results[:, 1:]"
      ],
      "metadata": {
        "colab": {
          "base_uri": "https://localhost:8080/"
        },
        "id": "vEbs7vCQ6VV3",
        "outputId": "0eb3c0ed-d72b-412a-e962-36d0b9f853d8"
      },
      "execution_count": null,
      "outputs": [
        {
          "output_type": "execute_result",
          "data": {
            "text/plain": [
              "array([[ True,  True,  True,  True,  True],\n",
              "       [ True,  True, False,  True, False],\n",
              "       [ True,  True,  True,  True,  True],\n",
              "       ...,\n",
              "       [ True,  True,  True,  True,  True],\n",
              "       [ True,  True,  True,  True,  True],\n",
              "       [ True, False, False,  True,  True]])"
            ]
          },
          "metadata": {},
          "execution_count": 42
        }
      ]
    },
    {
      "cell_type": "code",
      "source": [
        "\n",
        "from sklearn.metrics import classification_report, confusion_matrix, multilabel_confusion_matrix, accuracy_score, precision_recall_fscore_support\n",
        "\n",
        "acc_gender = accuracy_score(y_test[:, 0], results[:, 0])\n",
        "acc_age = accuracy_score(y_test[:, 1:], results[:, 1:])\n",
        "\n",
        "matrix = multilabel_confusion_matrix(y_test, results)\n",
        "\n",
        "#age_matrix = confusion_matrix(y_test[:, 1:], results[:, 1:])\n",
        "#gender_matrix = confusion_matrix(y_test[:, 0], results[:, 0])\n",
        "\n",
        "cr_age = classification_report(y_test[:, 1:], results[:, 1:])\n",
        "cr_gen = classification_report(y_test[:, 0], results[:, 0])\n",
        "\n",
        "prf_age = precision_recall_fscore_support(y_test[:, 1:], results[:, 1:], average='micro')\n",
        "prf_gen = precision_recall_fscore_support(y_test[:, 0], results[:, 0], average='micro')"
      ],
      "metadata": {
        "id": "o2Wotxbl3FeX"
      },
      "execution_count": null,
      "outputs": []
    },
    {
      "cell_type": "code",
      "source": [
        "acc_gender, acc_age"
      ],
      "metadata": {
        "colab": {
          "base_uri": "https://localhost:8080/"
        },
        "id": "448xt5XG3-I4",
        "outputId": "451ad6dc-2356-4df1-d459-1e28792cc32b"
      },
      "execution_count": null,
      "outputs": [
        {
          "output_type": "execute_result",
          "data": {
            "text/plain": [
              "(0.8926315789473684, 0.8121052631578948)"
            ]
          },
          "metadata": {},
          "execution_count": 56
        }
      ]
    },
    {
      "cell_type": "code",
      "source": [
        "print(prf_gen)\n",
        "print(prf_age)"
      ],
      "metadata": {
        "colab": {
          "base_uri": "https://localhost:8080/"
        },
        "id": "htrKpmi-4Bwh",
        "outputId": "97145417-10ef-4144-b359-bcc32ba050be"
      },
      "execution_count": null,
      "outputs": [
        {
          "output_type": "stream",
          "name": "stdout",
          "text": [
            "(0.8926315789473684, 0.8926315789473684, 0.8926315789473683, None)\n",
            "(0.8121052631578948, 0.8142480211081794, 0.813175230566535, None)\n"
          ]
        }
      ]
    },
    {
      "cell_type": "code",
      "source": [
        "print(cr_gen)\n",
        "print(cr_age)"
      ],
      "metadata": {
        "colab": {
          "base_uri": "https://localhost:8080/"
        },
        "id": "aWYmXOs04Ej6",
        "outputId": "21b70dec-fdb5-4577-f7ab-b7c878fd6f9c"
      },
      "execution_count": null,
      "outputs": [
        {
          "output_type": "stream",
          "name": "stdout",
          "text": [
            "              precision    recall  f1-score   support\n",
            "\n",
            "           0       0.90      0.85      0.88       861\n",
            "           1       0.88      0.92      0.90      1039\n",
            "\n",
            "    accuracy                           0.89      1900\n",
            "   macro avg       0.89      0.89      0.89      1900\n",
            "weighted avg       0.89      0.89      0.89      1900\n",
            "\n",
            "              precision    recall  f1-score   support\n",
            "\n",
            "           0       0.88      0.50      0.64        14\n",
            "           1       0.81      0.90      0.85       920\n",
            "           2       0.80      0.71      0.76       665\n",
            "           3       0.80      0.75      0.77       204\n",
            "           4       0.98      0.88      0.93        92\n",
            "\n",
            "   micro avg       0.81      0.81      0.81      1895\n",
            "   macro avg       0.85      0.75      0.79      1895\n",
            "weighted avg       0.81      0.81      0.81      1895\n",
            " samples avg       0.81      0.81      0.81      1895\n",
            "\n"
          ]
        }
      ]
    },
    {
      "cell_type": "code",
      "source": [
        "matrix"
      ],
      "metadata": {
        "colab": {
          "base_uri": "https://localhost:8080/"
        },
        "id": "aHRPBQa6lLBI",
        "outputId": "04981d0a-5c05-4536-c636-609ca7604ee9"
      },
      "execution_count": null,
      "outputs": [
        {
          "output_type": "execute_result",
          "data": {
            "text/plain": [
              "array([[[ 575,  286],\n",
              "        [ 303,  736]],\n",
              "\n",
              "       [[1886,    0],\n",
              "        [  10,    4]],\n",
              "\n",
              "       [[ 706,  274],\n",
              "        [ 286,  634]],\n",
              "\n",
              "       [[ 782,  453],\n",
              "        [ 230,  435]],\n",
              "\n",
              "       [[1684,   12],\n",
              "        [ 196,    8]],\n",
              "\n",
              "       [[1769,   39],\n",
              "        [  51,   41]]])"
            ]
          },
          "metadata": {},
          "execution_count": 47
        }
      ]
    },
    {
      "cell_type": "code",
      "source": [
        "acc"
      ],
      "metadata": {
        "colab": {
          "base_uri": "https://localhost:8080/"
        },
        "id": "mCCcRe6i5qXG",
        "outputId": "ea386f26-53cd-4095-b088-e9fd0d02b564"
      },
      "execution_count": null,
      "outputs": [
        {
          "output_type": "execute_result",
          "data": {
            "text/plain": [
              "0.9521052631578948"
            ]
          },
          "metadata": {},
          "execution_count": 45
        }
      ]
    },
    {
      "cell_type": "code",
      "source": [
        "testing_generator.dataset[1][0].numpy().shape\n",
        "\n",
        "#plt.imshow(img)"
      ],
      "metadata": {
        "colab": {
          "base_uri": "https://localhost:8080/"
        },
        "id": "ERFy46REVZ8z",
        "outputId": "5eab8bcf-3454-49cd-d61a-fc6f0c63adb3"
      },
      "execution_count": null,
      "outputs": [
        {
          "output_type": "execute_result",
          "data": {
            "text/plain": [
              "(3, 224, 112)"
            ]
          },
          "metadata": {},
          "execution_count": 16
        }
      ]
    },
    {
      "cell_type": "code",
      "source": [
        "def unnormalize(tensor, mean = [0.485, 0.456, 0.406], std = [0.229, 0.224, 0.225]):\n",
        "    for i in range(tensor.shape[0]):\n",
        "        tensor[i] = tensor[i] * std[i] + mean[i]\n",
        "    return tensor\n"
      ],
      "metadata": {
        "id": "R0uIxTRPz-Xx"
      },
      "execution_count": null,
      "outputs": []
    },
    {
      "cell_type": "code",
      "source": [
        "model = torch.jit.load('/content/attention_vgg/attv1/vgg_attention.pt')"
      ],
      "metadata": {
        "id": "kvHRDoKx3lUj"
      },
      "execution_count": null,
      "outputs": []
    },
    {
      "cell_type": "code",
      "source": [
        "img = unnormalize(training_generator.dataset[5][0]).permute(1, 2, 0).numpy()\n",
        "input = torch.unsqueeze(training_generator.dataset[1][0].cuda(), 0)\n",
        "#input = training_generator.dataset[1][0].cuda(), 0\n",
        "pred,a1, a2 = model(input)\n",
        "plt.subplot(1, 3, 1)\n",
        "plt.imshow(img)\n",
        "plt.subplot(1, 3, 2)\n",
        "plt.imshow(a1[0].permute(1, 2, 0).cpu().detach().numpy())\n",
        "plt.subplot(1, 3, 3)\n",
        "plt.imshow(a2[0].permute(1, 2, 0).cpu().detach().numpy())"
      ],
      "metadata": {
        "colab": {
          "base_uri": "https://localhost:8080/",
          "height": 375
        },
        "id": "ARgFfHTPW1Wj",
        "outputId": "c00f231d-5355-4f3a-8f47-9636e9f7e672"
      },
      "execution_count": null,
      "outputs": [
        {
          "output_type": "execute_result",
          "data": {
            "text/plain": [
              "<matplotlib.image.AxesImage at 0x7bc69e795a50>"
            ]
          },
          "metadata": {},
          "execution_count": 19
        },
        {
          "output_type": "display_data",
          "data": {
            "text/plain": [
              "<Figure size 640x480 with 3 Axes>"
            ],
            "image/png": "[encoded data removed]"
          },
          "metadata": {}
        }
      ]
    },
    {
      "cell_type": "code",
      "source": [
        "a1[0]"
      ],
      "metadata": {
        "id": "iCnpCxN81gcL"
      },
      "execution_count": null,
      "outputs": []
    },
    {
      "cell_type": "code",
      "source": [
        "training_generator.dataset[1][0].shape"
      ],
      "metadata": {
        "colab": {
          "base_uri": "https://localhost:8080/"
        },
        "id": "uwHHI9ihw-SA",
        "outputId": "560ea302-de26-4fd0-fad0-9aaa3bf5bd3f"
      },
      "execution_count": null,
      "outputs": [
        {
          "output_type": "execute_result",
          "data": {
            "text/plain": [
              "torch.Size([3, 224, 112])"
            ]
          },
          "metadata": {},
          "execution_count": 50
        }
      ]
    },
    {
      "cell_type": "code",
      "source": [
        "import matplotlib.pyplot as plt\n",
        "display_labels=['age, 0-15', '16-30', '31-45', '46-60', 'Over60']\n",
        "disp = ConfusionMatrixDisplay(confusion_matrix=matrix, )\n",
        "disp.plot()\n",
        "plt.show()"
      ],
      "metadata": {
        "id": "QSRvTpGxiroQ"
      },
      "execution_count": null,
      "outputs": []
    },
    {
      "cell_type": "code",
      "source": [
        "len(train_targets)"
      ],
      "metadata": {
        "colab": {
          "base_uri": "https://localhost:8080/"
        },
        "id": "MwuQg8diKdvc",
        "outputId": "07c80c55-684e-4401-8586-6ae4f760cbc4"
      },
      "execution_count": null,
      "outputs": [
        {
          "output_type": "execute_result",
          "data": {
            "text/plain": [
              "3641"
            ]
          },
          "metadata": {},
          "execution_count": 42
        }
      ]
    },
    {
      "cell_type": "code",
      "source": [
        "filename = 'cnn.pt'\n",
        "model_scripted = torch.jit.script(model) # Export to TorchScript\n",
        "model_scripted.save(filename) # Save\n",
        "# model = torch.jit.load('model_scripted.pt')\n",
        "# model.eval()\n",
        "save_path = '/content/model/' + filename"
      ],
      "metadata": {
        "id": "oezJdm926jE8"
      },
      "execution_count": null,
      "outputs": []
    },
    {
      "cell_type": "code",
      "source": [
        "torch.save(model, '/content/NewAttVGG_not_jit.pt')"
      ],
      "metadata": {
        "id": "jqPpX8QSodWS"
      },
      "execution_count": null,
      "outputs": []
    },
    {
      "cell_type": "code",
      "source": [
        "!cp 'cnn.pt' '/content/drive/MyDrive/attention_vgg'"
      ],
      "metadata": {
        "id": "4U2PRKDxpLmK"
      },
      "execution_count": null,
      "outputs": []
    },
    {
      "cell_type": "code",
      "source": [
        "torch.save(model.state_dict(), 'NewAttVGG_weightsV2_1_epochs10.pth')"
      ],
      "metadata": {
        "id": "R5k3O16rCvj3"
      },
      "execution_count": null,
      "outputs": []
    },
    {
      "cell_type": "code",
      "source": [
        "!cp '/content/NewAttVGG_weightsV2_1_epochs10.pth' '/content/drive/MyDrive/attention_vgg'"
      ],
      "metadata": {
        "id": "Gsx0n1qUD8Ev"
      },
      "execution_count": null,
      "outputs": []
    }
  ]
}